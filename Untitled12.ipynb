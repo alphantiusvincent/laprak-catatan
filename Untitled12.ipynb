{
  "nbformat": 4,
  "nbformat_minor": 0,
  "metadata": {
    "colab": {
      "provenance": [],
      "toc_visible": true
    },
    "kernelspec": {
      "name": "python3",
      "display_name": "Python 3"
    },
    "language_info": {
      "name": "python"
    }
  },
  "cells": [
    {
      "cell_type": "code",
      "execution_count": null,
      "metadata": {
        "id": "rotxJ99VAvLN"
      },
      "outputs": [],
      "source": [
        "handle = open('mbox-short.txt')\n",
        "print(handle)"
      ]
    },
    {
      "cell_type": "code",
      "source": [
        "handle = open(\"mbox.txt\")\n",
        "count = 0\n",
        "for line in handle:\n",
        "    count = count + 1\n",
        "print(\"line count =\",count)\n"
      ],
      "metadata": {
        "id": "RzcsMjiwLrAa"
      },
      "execution_count": null,
      "outputs": []
    },
    {
      "cell_type": "code",
      "source": [
        "handle = open(\"mbox.txt\")\n",
        "hasil =handle.read()\n",
        "print(len(hasil))\n",
        "print(hasil[-160::1])\n"
      ],
      "metadata": {
        "id": "MggDjyfXLrDU"
      },
      "execution_count": null,
      "outputs": []
    },
    {
      "cell_type": "code",
      "source": [
        "handle = open(\"mbox-short.txt\")\n",
        "count = 1\n",
        "for line in handle:\n",
        "    if line.startswith(\"Date:\") and count <= 10 :\n",
        "        count = count+1\n",
        "        print(line)"
      ],
      "metadata": {
        "id": "XQw2fvrNLrTT"
      },
      "execution_count": null,
      "outputs": []
    },
    {
      "cell_type": "code",
      "source": [
        "handle = open(\"output.txt\", \"w\")\n",
        "tulisan = \"pak matahari bakti\"\n",
        "handle.write(tulisan)\n",
        "handle.close\n"
      ],
      "metadata": {
        "id": "kq_ZR6ltLrWn"
      },
      "execution_count": null,
      "outputs": []
    },
    {
      "cell_type": "code",
      "source": [
        "handle = open(\"output.txt\", \"w\")\n",
        "tulisan = \"pak matahari bakti ganteng\"\n",
        "handle.write(tulisan)\n",
        "handle.close\n",
        "\n"
      ],
      "metadata": {
        "id": "Osxr22FxOSD7"
      },
      "execution_count": null,
      "outputs": []
    }
  ]
}